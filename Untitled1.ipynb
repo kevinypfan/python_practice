{
 "cells": [
  {
   "cell_type": "code",
   "execution_count": 79,
   "metadata": {},
   "outputs": [],
   "source": [
    "import re\n",
    "p = 5\n",
    "q = 11\n",
    "h = p * q\n",
    "private_key = 3\n",
    "public_key = 33"
   ]
  },
  {
   "cell_type": "code",
   "execution_count": 118,
   "metadata": {},
   "outputs": [
    {
     "data": {
      "text/plain": [
       "14"
      ]
     },
     "execution_count": 118,
     "metadata": {},
     "output_type": "execute_result"
    }
   ],
   "source": [
    "message = 'Roni and kevin'\n",
    "len(message)"
   ]
  },
  {
   "cell_type": "code",
   "execution_count": 119,
   "metadata": {},
   "outputs": [],
   "source": [
    "ascii_message = [ord(c) for c in message]"
   ]
  },
  {
   "cell_type": "code",
   "execution_count": 121,
   "metadata": {},
   "outputs": [
    {
     "data": {
      "text/plain": [
       "['1010010',\n",
       " '1101111',\n",
       " '1101110',\n",
       " '1101001',\n",
       " '0100000',\n",
       " '1100001',\n",
       " '1101110',\n",
       " '1100100',\n",
       " '0100000',\n",
       " '1101011',\n",
       " '1100101',\n",
       " '1110110',\n",
       " '1101001',\n",
       " '1101110']"
      ]
     },
     "execution_count": 121,
     "metadata": {},
     "output_type": "execute_result"
    }
   ],
   "source": [
    "bin_message = [bin(a)[2:].zfill(7) for a in ascii_message]\n",
    "bin_message"
   ]
  },
  {
   "cell_type": "code",
   "execution_count": 122,
   "metadata": {},
   "outputs": [],
   "source": [
    "bin_message = ''.join(e for e in bin_message)"
   ]
  },
  {
   "cell_type": "code",
   "execution_count": 123,
   "metadata": {},
   "outputs": [
    {
     "data": {
      "text/plain": [
       "'10100101101111110111011010010100000110000111011101100100010000011010111100101111011011010011101110'"
      ]
     },
     "execution_count": 123,
     "metadata": {},
     "output_type": "execute_result"
    }
   ],
   "source": [
    "bin_message"
   ]
  },
  {
   "cell_type": "code",
   "execution_count": 124,
   "metadata": {},
   "outputs": [
    {
     "name": "stdout",
     "output_type": "stream",
     "text": [
      "98\n",
      "93\n",
      "88\n",
      "83\n",
      "78\n",
      "73\n",
      "68\n",
      "63\n",
      "58\n",
      "53\n",
      "48\n",
      "43\n",
      "38\n",
      "33\n",
      "28\n",
      "23\n",
      "18\n",
      "13\n",
      "8\n",
      "3\n"
     ]
    },
    {
     "data": {
      "text/plain": [
       "['101',\n",
       " '00101',\n",
       " '10111',\n",
       " '11101',\n",
       " '11011',\n",
       " '01001',\n",
       " '01000',\n",
       " '00110',\n",
       " '00011',\n",
       " '10111',\n",
       " '01100',\n",
       " '10001',\n",
       " '00000',\n",
       " '11010',\n",
       " '11110',\n",
       " '01011',\n",
       " '11011',\n",
       " '01101',\n",
       " '00111',\n",
       " '01110']"
      ]
     },
     "execution_count": 124,
     "metadata": {},
     "output_type": "execute_result"
    }
   ],
   "source": [
    "def bin_cut(bin_str):\n",
    "    index = len(bin_str) - 5;\n",
    "    cut_str = []\n",
    "    for s in range(len(bin_str), 0, -5):\n",
    "        print(s)\n",
    "        cut_str.insert(0, bin_str[index: s])\n",
    "        if index < 5:\n",
    "            index = 0\n",
    "        else:\n",
    "            index -= 5 \n",
    "    return cut_str\n",
    "five_bit_message = bin_cut(bin_message)\n",
    "five_bit_message"
   ]
  },
  {
   "cell_type": "code",
   "execution_count": 125,
   "metadata": {},
   "outputs": [],
   "source": [
    "encrypt_message_int =  [int(s, 2) ** 7 % 55 for s in five_bit_message]"
   ]
  },
  {
   "cell_type": "code",
   "execution_count": 126,
   "metadata": {},
   "outputs": [],
   "source": [
    "decode_message_int = [msg ** 23 % 55 for msg in encrypt_message_int]"
   ]
  },
  {
   "cell_type": "code",
   "execution_count": 127,
   "metadata": {},
   "outputs": [],
   "source": [
    "decode_cut_five = [bin(a)[2:].zfill(5) for a in decode_message_int] "
   ]
  },
  {
   "cell_type": "code",
   "execution_count": 128,
   "metadata": {},
   "outputs": [
    {
     "data": {
      "text/plain": [
       "['00101',\n",
       " '00101',\n",
       " '10111',\n",
       " '11101',\n",
       " '11011',\n",
       " '01001',\n",
       " '01000',\n",
       " '00110',\n",
       " '00011',\n",
       " '10111',\n",
       " '01100',\n",
       " '10001',\n",
       " '00000',\n",
       " '11010',\n",
       " '11110',\n",
       " '01011',\n",
       " '11011',\n",
       " '01101',\n",
       " '00111',\n",
       " '01110']"
      ]
     },
     "execution_count": 128,
     "metadata": {},
     "output_type": "execute_result"
    }
   ],
   "source": [
    "decode_cut_five"
   ]
  },
  {
   "cell_type": "code",
   "execution_count": 129,
   "metadata": {},
   "outputs": [],
   "source": [
    "\n",
    "def bin_five_to_ascii(decode_cut_five):\n",
    "    msg = re.sub(r'^(0+)', '', ''.join(decode_cut_five))    \n",
    "    print(str(msg))\n",
    "    index = len(msg) - 7;\n",
    "    ascii_str = []\n",
    "    for s in range(len(msg), 0, -7):\n",
    "        ascii_str.insert(0, msg[index: s])\n",
    "        if index < 7:\n",
    "            index = 0\n",
    "        else:\n",
    "            index -= 7\n",
    "    return ascii_str"
   ]
  },
  {
   "cell_type": "code",
   "execution_count": 130,
   "metadata": {},
   "outputs": [
    {
     "name": "stdout",
     "output_type": "stream",
     "text": [
      "10100101101111110111011010010100000110000111011101100100010000011010111100101111011011010011101110\n"
     ]
    },
    {
     "data": {
      "text/plain": [
       "['1010010',\n",
       " '1101111',\n",
       " '1101110',\n",
       " '1101001',\n",
       " '0100000',\n",
       " '1100001',\n",
       " '1101110',\n",
       " '1100100',\n",
       " '0100000',\n",
       " '1101011',\n",
       " '1100101',\n",
       " '1110110',\n",
       " '1101001',\n",
       " '1101110']"
      ]
     },
     "execution_count": 130,
     "metadata": {},
     "output_type": "execute_result"
    }
   ],
   "source": [
    "decode_origin_bin = bin_five_to_ascii(decode_cut_five)\n",
    "decode_origin_bin"
   ]
  },
  {
   "cell_type": "code",
   "execution_count": 131,
   "metadata": {},
   "outputs": [],
   "source": [
    "decode_origin_message = ''.join(chr(int(i,2)) for i in decode_origin_bin)"
   ]
  },
  {
   "cell_type": "code",
   "execution_count": 132,
   "metadata": {},
   "outputs": [
    {
     "data": {
      "text/plain": [
       "'Roni and kevin'"
      ]
     },
     "execution_count": 132,
     "metadata": {},
     "output_type": "execute_result"
    }
   ],
   "source": [
    "decode_origin_message"
   ]
  },
  {
   "cell_type": "code",
   "execution_count": null,
   "metadata": {},
   "outputs": [],
   "source": []
  },
  {
   "cell_type": "code",
   "execution_count": null,
   "metadata": {},
   "outputs": [],
   "source": []
  },
  {
   "cell_type": "code",
   "execution_count": null,
   "metadata": {},
   "outputs": [],
   "source": []
  },
  {
   "cell_type": "code",
   "execution_count": null,
   "metadata": {},
   "outputs": [],
   "source": []
  },
  {
   "cell_type": "code",
   "execution_count": null,
   "metadata": {},
   "outputs": [],
   "source": []
  }
 ],
 "metadata": {
  "kernelspec": {
   "display_name": "Python 3",
   "language": "python",
   "name": "python3"
  },
  "language_info": {
   "codemirror_mode": {
    "name": "ipython",
    "version": 3
   },
   "file_extension": ".py",
   "mimetype": "text/x-python",
   "name": "python",
   "nbconvert_exporter": "python",
   "pygments_lexer": "ipython3",
   "version": "3.7.1"
  }
 },
 "nbformat": 4,
 "nbformat_minor": 2
}
