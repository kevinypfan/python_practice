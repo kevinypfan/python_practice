{
 "cells": [
  {
   "cell_type": "markdown",
   "metadata": {},
   "source": [
    "(5-1)(11-1) = 40\n",
    "\n",
    "if h = 7:\n",
    "\n",
    "    h * d = 1 mod 40\n",
    "    \n",
    "and: d = 23\n",
    "### key pair\n",
    "1. (3, 27)\n",
    "2. (7, 23)\n",
    "3. (13, 37)\n",
    "4. (17, 33)"
   ]
  },
  {
   "cell_type": "code",
   "execution_count": 4,
   "metadata": {},
   "outputs": [],
   "source": [
    "import re\n",
    "\n",
    "def bin_cut5(bin_str):\n",
    "    index = len(bin_str) - 5\n",
    "    cut_str = []\n",
    "    for s in range(len(bin_str), 0, -5):\n",
    "        cut_str.insert(0, bin_str[index: s])\n",
    "        if index < 5:\n",
    "            index = 0\n",
    "        else:\n",
    "            index -= 5 \n",
    "    return cut_str\n",
    "\n",
    "\n",
    "def bin_five_to_ascii(decode_cut_five):\n",
    "    msg = re.sub(r'^(0+)', '', ''.join(decode_cut_five))    \n",
    "    print(str(msg))\n",
    "    index = len(msg) - 7\n",
    "    ascii_str = []\n",
    "    for s in range(len(msg), 0, -7):\n",
    "        ascii_str.insert(0, msg[index: s])\n",
    "        if index < 7:\n",
    "            index = 0\n",
    "        else:\n",
    "            index -= 7\n",
    "    return ascii_str\n",
    "\n",
    "def encrypt_message(private_key, public_key, message):\n",
    "    ascii_message = [ord(c) for c in message]\n",
    "    bin_message = [bin(a)[2:].zfill(7) for a in ascii_message]\n",
    "    bin_message = ''.join(e for e in bin_message)\n",
    "    five_bit_message = bin_cut5(bin_message)\n",
    "    encrypt_public_key =  [int(s, 2) ** public_key % 55 for s in five_bit_message]\n",
    "    encrypt_private_key = [s ** private_key % 55 for s in encrypt_public_key]\n",
    "    encrypt_result_list = [bin(a)[2:].zfill(5) for a in encrypt_private_key]\n",
    "    return encrypt_result_list\n",
    "\n",
    "def decrypt_message(private_key, public_key, message):\n",
    "    decrypt_private_key = [int(s, 2) ** public_key % 55 for s in message]\n",
    "    decrypt_public_key = [s ** private_key % 55 for s in decrypt_private_key]\n",
    "    decode_cut_five = [bin(a)[2:].zfill(5) for a in decrypt_public_key] \n",
    "    decode_origin_bin = bin_five_to_ascii(decode_cut_five)\n",
    "    return ''.join(chr(int(i,2)) for i in decode_origin_bin)\n"
   ]
  },
  {
   "cell_type": "code",
   "execution_count": 5,
   "metadata": {
    "scrolled": true
   },
   "outputs": [
    {
     "name": "stdout",
     "output_type": "stream",
     "text": [
      "['110001', '100101', '10100', '110101', '101110', '01111', '01100', '00101', '100101', '01100', '110101', '10000', '10100', '100001', '10111', '01101', '00001', '00111', '01010', '00001', '11111', '10011', '110101', '01110', '00111', '01110', '01100', '110100', '101000', '110101', '110001', '110101', '110100', '00001', '100101', '10111', '01000', '00100']\n"
     ]
    }
   ],
   "source": [
    "encrypt_private_key = 3\n",
    "encrypt_public_key = 33\n",
    "encrypt_string = 'Hello world!! and Kevin Fan'\n",
    "encrypt = encrypt_message(private_key = encrypt_private_key, public_key = encrypt_public_key, message = encrypt_string)\n",
    "print(encrypt)"
   ]
  },
  {
   "cell_type": "code",
   "execution_count": 6,
   "metadata": {},
   "outputs": [
    {
     "name": "stdout",
     "output_type": "stream",
     "text": [
      "100100011001011101100110110011011110100000111011111011111110010110110011001000100001010000101000001100001110111011001000100000100101111001011110110110100111011100100000100011011000011101110\n"
     ]
    },
    {
     "data": {
      "text/plain": [
       "'Hello world!! and Kevin Fan'"
      ]
     },
     "execution_count": 6,
     "metadata": {},
     "output_type": "execute_result"
    }
   ],
   "source": [
    "decrypt_private_key = 27\n",
    "decrypt_public_key = 17\n",
    "decrypt_list = ['110001', '100101', '10100', '110101', '101110', '01111', '01100', '00101', '100101', '01100', '110101', '10000', '10100', '100001', '10111', '01101', '00001', '00111', '01010', '00001', '11111', '10011', '110101', '01110', '00111', '01110', '01100', '110100', '101000', '110101', '110001', '110101', '110100', '00001', '100101', '10111', '01000', '00100']\n",
    "decrypt_message(private_key = decrypt_private_key, public_key = decrypt_public_key, message = decrypt_list)"
   ]
  },
  {
   "cell_type": "code",
   "execution_count": null,
   "metadata": {},
   "outputs": [],
   "source": []
  }
 ],
 "metadata": {
  "kernelspec": {
   "display_name": "Python 3",
   "language": "python",
   "name": "python3"
  },
  "language_info": {
   "codemirror_mode": {
    "name": "ipython",
    "version": 3
   },
   "file_extension": ".py",
   "mimetype": "text/x-python",
   "name": "python",
   "nbconvert_exporter": "python",
   "pygments_lexer": "ipython3",
   "version": "3.7.1"
  }
 },
 "nbformat": 4,
 "nbformat_minor": 2
}
