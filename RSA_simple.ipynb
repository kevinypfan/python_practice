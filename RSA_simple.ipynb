{
 "cells": [
  {
   "cell_type": "code",
   "execution_count": 41,
   "metadata": {},
   "outputs": [],
   "source": [
    "import re"
   ]
  },
  {
   "cell_type": "code",
   "execution_count": 42,
   "metadata": {},
   "outputs": [],
   "source": [
    "def bin_cut5(bin_str):\n",
    "    index = len(bin_str) - 5\n",
    "    cut_str = []\n",
    "    for s in range(len(bin_str), 0, -5):\n",
    "        cut_str.insert(0, bin_str[index: s])\n",
    "        if index < 5:\n",
    "            index = 0\n",
    "        else:\n",
    "            index -= 5 \n",
    "    return cut_str"
   ]
  },
  {
   "cell_type": "code",
   "execution_count": 43,
   "metadata": {},
   "outputs": [],
   "source": [
    "\n",
    "def bin_five_to_ascii(decode_cut_five):\n",
    "    msg = re.sub(r'^(0+)', '', ''.join(decode_cut_five))    \n",
    "    print(str(msg))\n",
    "    index = len(msg) - 7\n",
    "    ascii_str = []\n",
    "    for s in range(len(msg), 0, -7):\n",
    "        ascii_str.insert(0, msg[index: s])\n",
    "        if index < 7:\n",
    "            index = 0\n",
    "        else:\n",
    "            index -= 7\n",
    "    return ascii_str"
   ]
  },
  {
   "cell_type": "code",
   "execution_count": 44,
   "metadata": {},
   "outputs": [],
   "source": [
    "def encrypt_message(private_key, public_key, message):\n",
    "    ascii_message = [ord(c) for c in message]\n",
    "    bin_message = [bin(a)[2:].zfill(7) for a in ascii_message]\n",
    "    bin_message = ''.join(e for e in bin_message)\n",
    "    five_bit_message = bin_cut5(bin_message)\n",
    "    encrypt_public_key =  [int(s, 2) ** public_key % 55 for s in five_bit_message]\n",
    "    encrypt_private_key = [s ** private_key % 55 for s in encrypt_public_key]\n",
    "    return [bin(a)[2:].zfill(5) for a in encrypt_private_key]"
   ]
  },
  {
   "cell_type": "code",
   "execution_count": 48,
   "metadata": {},
   "outputs": [
    {
     "data": {
      "text/plain": [
       "['110001',\n",
       " '100101',\n",
       " '10100',\n",
       " '110101',\n",
       " '101110',\n",
       " '01111',\n",
       " '01100',\n",
       " '00101',\n",
       " '100101',\n",
       " '01100',\n",
       " '110101',\n",
       " '10000',\n",
       " '10100',\n",
       " '100001',\n",
       " '10111',\n",
       " '01101',\n",
       " '00001',\n",
       " '00111',\n",
       " '01010',\n",
       " '00001',\n",
       " '11111',\n",
       " '10011',\n",
       " '110101',\n",
       " '01110',\n",
       " '00111',\n",
       " '01110',\n",
       " '01100',\n",
       " '110100',\n",
       " '101000',\n",
       " '110101',\n",
       " '110001',\n",
       " '110101',\n",
       " '110100',\n",
       " '00001',\n",
       " '100101',\n",
       " '10111',\n",
       " '01000',\n",
       " '00100']"
      ]
     },
     "execution_count": 48,
     "metadata": {},
     "output_type": "execute_result"
    }
   ],
   "source": [
    "encrypt = encrypt_message(3, 33, 'Hello world!! and Kevin Fan')\n",
    "encrypt"
   ]
  },
  {
   "cell_type": "code",
   "execution_count": 46,
   "metadata": {},
   "outputs": [],
   "source": [
    "def decrypt_message(private_key, public_key, message):\n",
    "    decrypt_private_key = [int(s, 2) ** public_key % 55 for s in message]\n",
    "    decrypt_public_key = [s ** private_key % 55 for s in decrypt_private_key]\n",
    "    decode_cut_five = [bin(a)[2:].zfill(5) for a in decrypt_public_key] \n",
    "    decode_origin_bin = bin_five_to_ascii(decode_cut_five)\n",
    "    return ''.join(chr(int(i,2)) for i in decode_origin_bin)"
   ]
  },
  {
   "cell_type": "code",
   "execution_count": 47,
   "metadata": {},
   "outputs": [
    {
     "name": "stdout",
     "output_type": "stream",
     "text": [
      "100100011001011101100110110011011110100000111011111011111110010110110011001000100001010000101000001100001110111011001000100000100101111001011110110110100111011100100000100011011000011101110\n"
     ]
    },
    {
     "data": {
      "text/plain": [
       "'Hello world!! and Kevin Fan'"
      ]
     },
     "execution_count": 47,
     "metadata": {},
     "output_type": "execute_result"
    }
   ],
   "source": [
    "decrypt_message(27, 17, encrypt)"
   ]
  },
  {
   "cell_type": "code",
   "execution_count": null,
   "metadata": {},
   "outputs": [],
   "source": []
  },
  {
   "cell_type": "code",
   "execution_count": null,
   "metadata": {},
   "outputs": [],
   "source": []
  }
 ],
 "metadata": {
  "kernelspec": {
   "display_name": "Python 3",
   "language": "python",
   "name": "python3"
  },
  "language_info": {
   "codemirror_mode": {
    "name": "ipython",
    "version": 3
   },
   "file_extension": ".py",
   "mimetype": "text/x-python",
   "name": "python",
   "nbconvert_exporter": "python",
   "pygments_lexer": "ipython3",
   "version": "3.7.1"
  }
 },
 "nbformat": 4,
 "nbformat_minor": 2
}
